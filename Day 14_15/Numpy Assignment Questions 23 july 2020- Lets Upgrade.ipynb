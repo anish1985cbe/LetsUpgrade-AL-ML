{
 "cells": [
  {
   "cell_type": "markdown",
   "metadata": {},
   "source": [
    "# 1. Create a 3x3x3 array with random values "
   ]
  },
  {
   "cell_type": "code",
   "execution_count": 1,
   "metadata": {},
   "outputs": [
    {
     "name": "stdout",
     "output_type": "stream",
     "text": [
      "[[[0.02962285 0.58594706 0.99750962]\n",
      "  [0.04689985 0.75040838 0.06577806]\n",
      "  [0.75890545 0.39259293 0.62197441]]\n",
      "\n",
      " [[0.06863966 0.89742069 0.74702921]\n",
      "  [0.21315022 0.2306894  0.52693751]\n",
      "  [0.7769692  0.47076911 0.43300775]]\n",
      "\n",
      " [[0.20177601 0.95719053 0.4295881 ]\n",
      "  [0.04098136 0.38620964 0.8019626 ]\n",
      "  [0.4245722  0.42598494 0.43405309]]]\n"
     ]
    }
   ],
   "source": [
    "import numpy as np\n",
    "x = np.random.random((3,3,3))\n",
    "print(x)"
   ]
  },
  {
   "cell_type": "markdown",
   "metadata": {},
   "source": [
    "# 2.Create a 5x5 matrix with values 1,2,3,4 just below the diagonal"
   ]
  },
  {
   "cell_type": "code",
   "execution_count": 2,
   "metadata": {},
   "outputs": [
    {
     "name": "stdout",
     "output_type": "stream",
     "text": [
      "[[1 0 0 0]\n",
      " [0 2 0 0]\n",
      " [0 0 3 0]\n",
      " [0 0 0 4]]\n"
     ]
    }
   ],
   "source": [
    "import numpy as np\n",
    "x = np.diag([1, 2, 3, 4])\n",
    "print(x)"
   ]
  },
  {
   "cell_type": "markdown",
   "metadata": {},
   "source": [
    "# 3.Create a 8x8 matrix and fill it with a checkerboard pattern"
   ]
  },
  {
   "cell_type": "code",
   "execution_count": 3,
   "metadata": {},
   "outputs": [
    {
     "name": "stdout",
     "output_type": "stream",
     "text": [
      "Checkerboard pattern:\n",
      "[[0 1 0 1 0 1 0 1]\n",
      " [1 0 1 0 1 0 1 0]\n",
      " [0 1 0 1 0 1 0 1]\n",
      " [1 0 1 0 1 0 1 0]\n",
      " [0 1 0 1 0 1 0 1]\n",
      " [1 0 1 0 1 0 1 0]\n",
      " [0 1 0 1 0 1 0 1]\n",
      " [1 0 1 0 1 0 1 0]]\n"
     ]
    }
   ],
   "source": [
    "import numpy as np\n",
    "x = np.ones((3,3))\n",
    "print(\"Checkerboard pattern:\")\n",
    "x = np.zeros((8,8),dtype=int)\n",
    "x[1::2,::2] = 1\n",
    "x[::2,1::2] = 1\n",
    "print(x)"
   ]
  },
  {
   "cell_type": "markdown",
   "metadata": {},
   "source": [
    "# 4. Normalize a 5x5 random matrix"
   ]
  },
  {
   "cell_type": "code",
   "execution_count": 4,
   "metadata": {},
   "outputs": [
    {
     "name": "stdout",
     "output_type": "stream",
     "text": [
      "Original Array:\n",
      "[[0.74227818 0.62995378 0.41648362]\n",
      " [0.89739602 0.05442806 0.77127031]\n",
      " [0.62987011 0.32713449 0.01536422]]\n",
      "After normalization:\n",
      "[[0.82413577 0.69678844 0.4547675 ]\n",
      " [1.         0.04428846 0.85700548]\n",
      " [0.69669357 0.35346828 0.        ]]\n"
     ]
    }
   ],
   "source": [
    "import numpy as np\n",
    "x= np.random.random((3,3))\n",
    "print(\"Original Array:\")\n",
    "print(x)\n",
    "xmax, xmin = x.max(), x.min()\n",
    "x = (x - xmin)/(xmax - xmin)\n",
    "print(\"After normalization:\")\n",
    "print(x)"
   ]
  },
  {
   "cell_type": "markdown",
   "metadata": {},
   "source": [
    "# 5.  How to find common values between two arrays?"
   ]
  },
  {
   "cell_type": "code",
   "execution_count": 5,
   "metadata": {},
   "outputs": [
    {
     "name": "stdout",
     "output_type": "stream",
     "text": [
      "Array1:  [ 0 10 20 40 60]\n",
      "Array2:  [10, 30, 40]\n",
      "Common values between two arrays:\n",
      "[10 40]\n"
     ]
    }
   ],
   "source": [
    "import numpy as np\n",
    "array1 = np.array([0, 10, 20, 40, 60])\n",
    "print(\"Array1: \",array1)\n",
    "array2 = [10, 30, 40]\n",
    "print(\"Array2: \",array2)\n",
    "print(\"Common values between two arrays:\")\n",
    "print(np.intersect1d(array1, array2))"
   ]
  },
  {
   "cell_type": "markdown",
   "metadata": {},
   "source": [
    "# 6.How to get the dates of yesterday, today and tomorrow?"
   ]
  },
  {
   "cell_type": "code",
   "execution_count": 6,
   "metadata": {},
   "outputs": [
    {
     "name": "stdout",
     "output_type": "stream",
     "text": [
      "Yestraday:  2020-08-01\n",
      "Today:  2020-08-02\n",
      "Tomorrow:  2020-08-03\n"
     ]
    }
   ],
   "source": [
    "import numpy as np\n",
    "yesterday = np.datetime64('today', 'D') - np.timedelta64(1, 'D')\n",
    "print(\"Yestraday: \",yesterday)\n",
    "today     = np.datetime64('today', 'D')\n",
    "print(\"Today: \",today)\n",
    "tomorrow  = np.datetime64('today', 'D') + np.timedelta64(1, 'D')\n",
    "print(\"Tomorrow: \",tomorrow)"
   ]
  },
  {
   "cell_type": "markdown",
   "metadata": {},
   "source": [
    "# 7. Consider two random array A and B, check if they are equal"
   ]
  },
  {
   "cell_type": "code",
   "execution_count": 7,
   "metadata": {},
   "outputs": [
    {
     "name": "stdout",
     "output_type": "stream",
     "text": [
      "First array:\n",
      "[0 0 1 1 1 0]\n",
      "Second array:\n",
      "[0 0 0 1 1 1]\n",
      "Test above two arrays are equal or not!\n",
      "False\n"
     ]
    }
   ],
   "source": [
    "import numpy as np\n",
    "a = np.random.randint(0,2,6)\n",
    "print(\"First array:\")\n",
    "print(a)\n",
    "b = np.random.randint(0,2,6)\n",
    "print(\"Second array:\")\n",
    "print(b)\n",
    "print(\"Test above two arrays are equal or not!\")\n",
    "array_equal = np.allclose(a, b)\n",
    "print(array_equal)"
   ]
  },
  {
   "cell_type": "markdown",
   "metadata": {},
   "source": [
    "# 8.Create random vector of size 10 and replace the maximum value by 0 "
   ]
  },
  {
   "cell_type": "code",
   "execution_count": 9,
   "metadata": {},
   "outputs": [
    {
     "name": "stdout",
     "output_type": "stream",
     "text": [
      "Original array:\n",
      "[0.24183222 0.18456377 0.77756416 0.74288331 0.23484918 0.85201397\n",
      " 0.9431276  0.09109374 0.02363685 0.32044596]\n",
      "Maximum value replaced by -1:\n",
      "[0.24183222 0.18456377 0.77756416 0.74288331 0.23484918 0.85201397\n",
      " 0.         0.09109374 0.02363685 0.32044596]\n"
     ]
    }
   ],
   "source": [
    "import numpy as np\n",
    "x = np.random.random(10)\n",
    "print(\"Original array:\")\n",
    "print(x)\n",
    "x[x.argmax()] = 0\n",
    "print(\"Maximum value replaced by -1:\")\n",
    "print(x)"
   ]
  },
  {
   "cell_type": "markdown",
   "metadata": {},
   "source": [
    "# 9. How to print all the values of an array?"
   ]
  },
  {
   "cell_type": "code",
   "execution_count": 15,
   "metadata": {},
   "outputs": [
    {
     "name": "stdout",
     "output_type": "stream",
     "text": [
      "[[0. 0. 0. 0.]\n",
      " [0. 0. 0. 0.]\n",
      " [0. 0. 0. 0.]\n",
      " [0. 0. 0. 0.]]\n"
     ]
    }
   ],
   "source": [
    "import numpy as np\n",
    "\n",
    "x = np.zeros((4, 4))\n",
    "print(x)"
   ]
  },
  {
   "cell_type": "markdown",
   "metadata": {},
   "source": [
    "# 10.Subtract the mean of each row of a matrix"
   ]
  },
  {
   "cell_type": "code",
   "execution_count": 16,
   "metadata": {},
   "outputs": [
    {
     "name": "stdout",
     "output_type": "stream",
     "text": [
      "Original matrix:\n",
      "\n",
      "[[0.99573615 0.1972568  0.4291254  0.17155283 0.84345425 0.52170993\n",
      "  0.35608255 0.6458536  0.96568899 0.99649871]\n",
      " [0.86026646 0.85874557 0.33690936 0.94853033 0.84914414 0.17048159\n",
      "  0.82185689 0.65622569 0.94942051 0.96439724]\n",
      " [0.15988862 0.00471133 0.69286682 0.13574813 0.11500781 0.46870169\n",
      "  0.42101955 0.89028659 0.5242289  0.76579744]\n",
      " [0.88484037 0.78813722 0.81191766 0.07387115 0.54124159 0.26200478\n",
      "  0.85278144 0.47529898 0.04028633 0.76835964]\n",
      " [0.71239153 0.6881331  0.04554086 0.34267406 0.59811763 0.25524466\n",
      "  0.2087187  0.91426465 0.48143505 0.70156835]]\n",
      "\n",
      "Subtract the mean of each row of the said matrix:\n",
      "\n",
      "[[ 0.38344023 -0.41503912 -0.18317052 -0.44074309  0.23115832 -0.09058599\n",
      "  -0.25621337  0.03355768  0.35339307  0.38420279]\n",
      " [ 0.11866869  0.11714779 -0.40468842  0.20693256  0.10754636 -0.57111619\n",
      "   0.08025911 -0.08537208  0.20782274  0.22279946]\n",
      " [-0.25793707 -0.41311436  0.27504113 -0.28207756 -0.30281788  0.05087601\n",
      "   0.00319386  0.4724609   0.10640321  0.34797176]\n",
      " [ 0.33496646  0.2382633   0.26204374 -0.47600277 -0.00863232 -0.28786914\n",
      "   0.30290752 -0.07457494 -0.50958759  0.21848572]\n",
      " [ 0.21758267  0.19332424 -0.449268   -0.1521348   0.10330877 -0.2395642\n",
      "  -0.28609016  0.41945579 -0.01337381  0.20675949]]\n"
     ]
    }
   ],
   "source": [
    "import numpy as np\n",
    "print(\"Original matrix:\\n\")\n",
    "X = np.random.rand(5, 10)\n",
    "print(X)\n",
    "print(\"\\nSubtract the mean of each row of the said matrix:\\n\")\n",
    "Y = X - X.mean(axis=1, keepdims=True)\n",
    "print(Y)"
   ]
  },
  {
   "cell_type": "markdown",
   "metadata": {},
   "source": [
    "# 11.Consider a given vector, how to add 1 to each element indexed by a second vector (be careful with repeated indices)? "
   ]
  },
  {
   "cell_type": "code",
   "execution_count": 3,
   "metadata": {},
   "outputs": [
    {
     "name": "stdout",
     "output_type": "stream",
     "text": [
      "[4. 3. 3. 4. 3. 3. 3. 1. 3. 3.]\n"
     ]
    }
   ],
   "source": [
    "import numpy as np\n",
    "Z = np.ones(10)\n",
    "I = np.random.randint(0,len(Z),20)\n",
    "Z += np.bincount(I, minlength=len(Z))\n",
    "print(Z)"
   ]
  },
  {
   "cell_type": "markdown",
   "metadata": {},
   "source": [
    "# 12.How to get the diagonal of a dot product?"
   ]
  },
  {
   "cell_type": "code",
   "execution_count": 2,
   "metadata": {},
   "outputs": [
    {
     "data": {
      "text/plain": [
       "array([ 32, 158,  31])"
      ]
     },
     "execution_count": 2,
     "metadata": {},
     "output_type": "execute_result"
    }
   ],
   "source": [
    "import numpy as np\n",
    "A = np.random.randint(0,10,(3,3))\n",
    "B= np.random.randint(0,10,(3,3))\n",
    "#Slow version\n",
    "\n",
    "np.diag(np.dot(A, B))\n",
    "\n",
    "# Fast version\n",
    "np.sum(A * B.T, axis=1)\n",
    "\n",
    "# Faster version\n",
    "np.einsum(\"ij,ji->i\", A, B)"
   ]
  },
  {
   "cell_type": "markdown",
   "metadata": {},
   "source": [
    "# 13.How to find the most frequent value in an array?"
   ]
  },
  {
   "cell_type": "code",
   "execution_count": 17,
   "metadata": {},
   "outputs": [
    {
     "name": "stdout",
     "output_type": "stream",
     "text": [
      "Original array:\n",
      "[8 9 8 6 4 9 6 7 9 5 7 5 9 2 5 9 8 1 0 1 0 4 3 9 5 2 7 9 2 8 8 5 7 8 7 2 3\n",
      " 1 2 8]\n",
      "Most frequent value in the above array:\n",
      "8\n"
     ]
    }
   ],
   "source": [
    "import numpy as np\n",
    "x = np.random.randint(0, 10, 40)\n",
    "print(\"Original array:\")\n",
    "print(x)\n",
    "print(\"Most frequent value in the above array:\")\n",
    "print(np.bincount(x).argmax())"
   ]
  },
  {
   "cell_type": "markdown",
   "metadata": {},
   "source": [
    "# 14.How to get the n largest values of an array"
   ]
  },
  {
   "cell_type": "code",
   "execution_count": 18,
   "metadata": {},
   "outputs": [
    {
     "name": "stdout",
     "output_type": "stream",
     "text": [
      "Original array:\n",
      "[0 1 2 3 4 5 6 7 8 9]\n",
      "[9]\n"
     ]
    }
   ],
   "source": [
    "import numpy as np\n",
    "x = np.arange(10)\n",
    "print(\"Original array:\")\n",
    "print(x)\n",
    "np.random.shuffle(x)\n",
    "n = 1\n",
    "print (x[np.argsort(x)[-n:]])"
   ]
  },
  {
   "cell_type": "markdown",
   "metadata": {},
   "source": [
    "# 15.How to create a record array from a regular array?"
   ]
  },
  {
   "cell_type": "code",
   "execution_count": 19,
   "metadata": {},
   "outputs": [
    {
     "name": "stdout",
     "output_type": "stream",
     "text": [
      "Original arrays:\n",
      "[['Yasemin Rayner' '88.5' '90']\n",
      " ['Ayaana Mcnamara' '87' '99']\n",
      " ['Jody Preece' '85.5' '91']]\n",
      "\n",
      "Record array;\n",
      "[(b'Yasemin Rayner', 88.5, 90) (b'Ayaana Mcnamara', 87. , 99)\n",
      " (b'Jody Preece', 85.5, 91)]\n"
     ]
    }
   ],
   "source": [
    "import numpy as np\n",
    "arra1 = np.array([(\"Yasemin Rayner\", 88.5, 90),\n",
    "                 (\"Ayaana Mcnamara\", 87, 99),\n",
    "             (\"Jody Preece\", 85.5, 91)])\n",
    "print(\"Original arrays:\")\n",
    "print(arra1)\n",
    "print(\"\\nRecord array;\")\n",
    "result = np.core.records.fromarrays(arra1.T,\n",
    "                              names='col1, col2, col3',\n",
    "                              formats = 'S80, f8, i8')\n",
    "print(result)"
   ]
  },
  {
   "cell_type": "code",
   "execution_count": null,
   "metadata": {},
   "outputs": [],
   "source": []
  }
 ],
 "metadata": {
  "kernelspec": {
   "display_name": "Python 3",
   "language": "python",
   "name": "python3"
  },
  "language_info": {
   "codemirror_mode": {
    "name": "ipython",
    "version": 3
   },
   "file_extension": ".py",
   "mimetype": "text/x-python",
   "name": "python",
   "nbconvert_exporter": "python",
   "pygments_lexer": "ipython3",
   "version": "3.7.6"
  }
 },
 "nbformat": 4,
 "nbformat_minor": 2
}

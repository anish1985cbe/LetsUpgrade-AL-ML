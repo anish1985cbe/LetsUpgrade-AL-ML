{
 "cells": [
  {
   "cell_type": "markdown",
   "metadata": {},
   "source": [
    "## Question 1 : \n",
    "\n",
    "Write a python progrm to find the first 20 non even prime natural numbers\n"
   ]
  },
  {
   "cell_type": "code",
   "execution_count": 1,
   "metadata": {},
   "outputs": [
    {
     "name": "stdout",
     "output_type": "stream",
     "text": [
      "2 3 5 7 11 13 17 19 "
     ]
    }
   ],
   "source": [
    "r=20  \n",
    "for a in range(2,r+1):  \n",
    "    k=0  \n",
    "    for i in range(2,a//2+1):  \n",
    "        if(a%i==0):  \n",
    "            k=k+1  \n",
    "    if(k<=0):  \n",
    "        print(a,end=\" \") "
   ]
  },
  {
   "cell_type": "markdown",
   "metadata": {},
   "source": [
    "## Question 2 : \n",
    "\n",
    "Write a python progrm to implement 15 function of string\n",
    "\n"
   ]
  },
  {
   "cell_type": "code",
   "execution_count": 42,
   "metadata": {},
   "outputs": [
    {
     "name": "stdout",
     "output_type": "stream",
     "text": [
      "HELLO, WORLD!, LEARNING MACHINE LANGUGAE\n",
      "Hello, world!, learning machine langugae\n",
      "Jello, World!, Learning Machine Langugae\n",
      "['Hello', ' World!', ' Learning Machine Langugae']\n",
      "Hello, World!, Learning Machine Langugae\n",
      "hello, world!, learning machine langugae\n",
      "Hello, World!, Learning Machine Langugae\n",
      "1\n",
      "0\n",
      "False\n",
      "False\n",
      "False\n",
      "False\n",
      "False\n"
     ]
    }
   ],
   "source": [
    "a = \"Hello, World!, Learning Machine Langugae\"\n",
    "print(a.upper())\n",
    "print(a.capitalize())\n",
    "print(a.replace(\"H\", \"J\"))\n",
    "print(a.split(\",\"))\n",
    "print(a.title())\n",
    "print(a.casefold())\n",
    "print(a.center(5))\n",
    "print(a.count('World'))\n",
    "print(a.rfind('Hello'))\n",
    "print(a.islower())\n",
    "print(a.isalnum())\n",
    "print(a.isalpha())\n",
    "print(a.isspace())\n",
    "print(a.isnumeric())"
   ]
  },
  {
   "cell_type": "markdown",
   "metadata": {},
   "source": [
    "## Question 3 : \n",
    "\n",
    "Write a python progrm to check if the given string is a palindrome or Anagram or None of them. Display the messgage accordingly to the user.\n"
   ]
  },
  {
   "cell_type": "code",
   "execution_count": 26,
   "metadata": {},
   "outputs": [
    {
     "name": "stdout",
     "output_type": "stream",
     "text": [
      "Enter a string:malayalam\n",
      "The string is a palindrome\n"
     ]
    }
   ],
   "source": [
    "string=input((\"Enter a string:\"))\n",
    "if(string==string[::-1]):\n",
    "      print(\"The string is a palindrome\")\n",
    "else:\n",
    "      print(\"Not a palindrome\")"
   ]
  },
  {
   "cell_type": "markdown",
   "metadata": {},
   "source": [
    "## Question 4:\n",
    "\n",
    "Write a python user defined function that removes all the additional characters from the string and convert it finally to lower case using built-in lower(). EG: if the string is \" Dr. Darshan ingle @Al-ML Trainer\", then the Out be \"drdarshaningleaimltrainer\"."
   ]
  },
  {
   "cell_type": "code",
   "execution_count": 38,
   "metadata": {},
   "outputs": [
    {
     "name": "stdout",
     "output_type": "stream",
     "text": [
      "drdarshaninglealmltrainer\n"
     ]
    }
   ],
   "source": [
    "a_string = \" Dr. Darshan ingle @Al-ML Trainer\"\n",
    "alphanumeric = \"\"\n",
    "\n",
    "\n",
    "\n",
    "for character in a_string:\n",
    "    if character.isalnum():\n",
    "        alphanumeric += character\n",
    "print(alphanumeric.lower())\n",
    "\n",
    "\n"
   ]
  },
  {
   "cell_type": "code",
   "execution_count": null,
   "metadata": {},
   "outputs": [],
   "source": []
  }
 ],
 "metadata": {
  "kernelspec": {
   "display_name": "Python 3",
   "language": "python",
   "name": "python3"
  },
  "language_info": {
   "codemirror_mode": {
    "name": "ipython",
    "version": 3
   },
   "file_extension": ".py",
   "mimetype": "text/x-python",
   "name": "python",
   "nbconvert_exporter": "python",
   "pygments_lexer": "ipython3",
   "version": "3.6.4"
  }
 },
 "nbformat": 4,
 "nbformat_minor": 2
}

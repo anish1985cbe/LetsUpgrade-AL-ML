{
 "cells": [
  {
   "cell_type": "markdown",
   "metadata": {},
   "source": [
    "## Question : 1 \n",
    "\n",
    "Research on whether addition, subtraction, Multiplication, Divison, Floor division and modulo operation be performed on complex number. Based on your study implement a python program to demostrated these operation.\n"
   ]
  },
  {
   "cell_type": "code",
   "execution_count": 54,
   "metadata": {},
   "outputs": [
    {
     "name": "stdout",
     "output_type": "stream",
     "text": [
      "Addition of two complex numbers :  (7-4j)\n",
      "Subtraction of two complex numbers :  (1+10j)\n",
      "Multiplication of two complex numbers :  (33-19j)\n",
      "Division of two complex numbers :  (-0.15517241379310348+0.6379310344827587j)\n"
     ]
    }
   ],
   "source": [
    "print(\"Addition of two complex numbers : \",(4+3j)+(3-7j))\n",
    "print(\"Subtraction of two complex numbers : \",(4+3j)-(3-7j))\n",
    "print(\"Multiplication of two complex numbers : \",(4+3j)*(3-7j))\n",
    "print(\"Division of two complex numbers : \",(4+3j)/(3-7j))\n",
    "# print(\"floor of two complex numbers : \",(4+3j)%(3-7j)) Error throw"
   ]
  },
  {
   "cell_type": "markdown",
   "metadata": {},
   "source": [
    "## Question 2:\n",
    "\n",
    "Research on range() function and its parameter. create a markdown cell and write in your own words (no copy-paste from google please) what you understand about it. Implement a small program of your choice on the same."
   ]
  },
  {
   "cell_type": "markdown",
   "metadata": {},
   "source": [
    "## Definition and Usage\n",
    "The range() function returns a sequence of numbers, starting from 0 by default, and increments by 1 (by default), and stops before a specified number.\n",
    "\n"
   ]
  },
  {
   "cell_type": "code",
   "execution_count": 51,
   "metadata": {},
   "outputs": [
    {
     "name": "stdout",
     "output_type": "stream",
     "text": [
      "range(0, 10)\n",
      "range(3, 20, 2)\n",
      "3\n",
      "5\n",
      "7\n",
      "9\n",
      "11\n",
      "13\n",
      "15\n",
      "17\n",
      "19\n"
     ]
    }
   ],
   "source": [
    "a= 10\n",
    "print(range(a))\n",
    "\n",
    "x = range(3, 20, 2)\n",
    "print(x)\n",
    "for n in x:\n",
    "  print(n)"
   ]
  },
  {
   "cell_type": "markdown",
   "metadata": {},
   "source": [
    "## Question 3: \n",
    "\n",
    "Consider two number. Perform their subtraction and if the result of subtraction is greater than 25, Print their multiplication result else print their division result"
   ]
  },
  {
   "cell_type": "code",
   "execution_count": 4,
   "metadata": {},
   "outputs": [
    {
     "name": "stdout",
     "output_type": "stream",
     "text": [
      "Enter the First Number: 12\n",
      "Enter the Second Number: 3\n",
      "The Division of the number is :  4.0\n"
     ]
    }
   ],
   "source": [
    "First_Number = int(input(\"Enter the First Number: \"))\n",
    "Second_Number = int(input(\"Enter the Second Number: \"))\n",
    "Subtract = First_Number - Second_Number\n",
    "if (Subtract > 25):\n",
    "    print(\"The Mutiplication of the number is : \", First_Number * Second_Number)\n",
    "else:\n",
    "    print(\"The Division of the number is : \", First_Number / Second_Number)"
   ]
  },
  {
   "cell_type": "markdown",
   "metadata": {},
   "source": [
    "## Question 4:\n",
    "Consider a list 10 element of integer values. if the number in the list is dvisible by 2. print the result as square of that number minus 2."
   ]
  },
  {
   "cell_type": "code",
   "execution_count": 49,
   "metadata": {},
   "outputs": [
    {
     "name": "stdout",
     "output_type": "stream",
     "text": [
      "Number Divisible by 2  are  [12, 22, 68, 46, 98, 24, 42, 56]\n",
      "Number Divisible by 2  are  [-24, -44, -136, -92, -196, -48, -84, -112]\n"
     ]
    }
   ],
   "source": [
    "my_list = [12,65,45,22,68,46,98,24,13,42,56]\n",
    "result = list(filter(lambda x : (x %2 == 0), my_list))\n",
    "print(\"Number Divisible by 2  are \", result)\n",
    "result1 = list(map(lambda x: x * -2 , result))\n",
    "print(\"Number Divisible by 2  are \", result1)"
   ]
  },
  {
   "cell_type": "markdown",
   "metadata": {},
   "source": [
    "## Question 5:\n",
    "Consider a list 0f 10 elements. print all the elements in the list which are greater than 7. When that numbe is divided 2.\n"
   ]
  },
  {
   "cell_type": "code",
   "execution_count": 50,
   "metadata": {},
   "outputs": [
    {
     "name": "stdout",
     "output_type": "stream",
     "text": [
      "[12, 65, 22, 68, 46, 8, 24, 13, 42, 56]\n",
      "[6.0, 32.5, 11.0, 34.0, 23.0, 4.0, 12.0, 6.5, 21.0, 28.0]\n"
     ]
    }
   ],
   "source": [
    "my_list = [12,65,5,22,68,46,8,24,13,42,56]\n",
    "\n",
    "result = list(filter(lambda x : (x > 7), my_list))\n",
    "print(result)\n",
    "result = list(map(lambda x : (x / 2 ), result))\n",
    "print(result)"
   ]
  }
 ],
 "metadata": {
  "kernelspec": {
   "display_name": "Python 3",
   "language": "python",
   "name": "python3"
  },
  "language_info": {
   "codemirror_mode": {
    "name": "ipython",
    "version": 3
   },
   "file_extension": ".py",
   "mimetype": "text/x-python",
   "name": "python",
   "nbconvert_exporter": "python",
   "pygments_lexer": "ipython3",
   "version": "3.6.4"
  }
 },
 "nbformat": 4,
 "nbformat_minor": 2
}

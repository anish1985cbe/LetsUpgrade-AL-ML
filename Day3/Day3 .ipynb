{
 "cells": [
  {
   "cell_type": "markdown",
   "metadata": {},
   "source": [
    "__Write a program to subtract two complex number in python__"
   ]
  },
  {
   "cell_type": "code",
   "execution_count": 1,
   "metadata": {},
   "outputs": [
    {
     "name": "stdout",
     "output_type": "stream",
     "text": [
      "Subtraction of two complex numbers :  (1+10j)\n"
     ]
    }
   ],
   "source": [
    "print(\"Subtraction of two complex numbers : \",(4+3j)-(3-7j))"
   ]
  },
  {
   "cell_type": "markdown",
   "metadata": {},
   "source": [
    "__Write a program to find the fourth root of a number__"
   ]
  },
  {
   "cell_type": "code",
   "execution_count": 24,
   "metadata": {},
   "outputs": [
    {
     "name": "stdout",
     "output_type": "stream",
     "text": [
      "Fourth Root Number :  625\n"
     ]
    }
   ],
   "source": [
    "x = 5 \n",
    "print(\"Fourth Root Number : \", x**4)"
   ]
  },
  {
   "cell_type": "markdown",
   "metadata": {},
   "source": [
    "__Write a program to swap two numbers in python with help of temporary Variable__"
   ]
  },
  {
   "cell_type": "code",
   "execution_count": 25,
   "metadata": {},
   "outputs": [
    {
     "name": "stdout",
     "output_type": "stream",
     "text": [
      "The value of x after swapping:  25\n",
      "The value of x after swapping:  10\n"
     ]
    }
   ],
   "source": [
    "X = 10\n",
    "Y = 25\n",
    "temp = X\n",
    "X = Y\n",
    "Y = temp\n",
    "print('The value of x after swapping: ', X)\n",
    "print('The value of x after swapping: ', Y)"
   ]
  },
  {
   "cell_type": "markdown",
   "metadata": {},
   "source": [
    "__Write a program to swap two numbers in python without using temporary Variable__"
   ]
  },
  {
   "cell_type": "code",
   "execution_count": 3,
   "metadata": {},
   "outputs": [
    {
     "name": "stdout",
     "output_type": "stream",
     "text": [
      "Before Swapping\n",
      "X Values is :  10 Y Values is :  25\n",
      "After Swapping\n",
      "X Values is :  25 Y Values is :  10\n"
     ]
    }
   ],
   "source": [
    "X = 10\n",
    "Y = 25\n",
    "\n",
    "print(\"Before Swapping\")\n",
    "print('X Values is : ',X, 'Y Values is : ',Y)\n",
    "\n",
    "X,Y = Y,X\n",
    "print(\"After Swapping\")\n",
    "print('X Values is : ',X, 'Y Values is : ',Y)"
   ]
  },
  {
   "cell_type": "markdown",
   "metadata": {},
   "source": [
    "__Write a program to convert fahrenheit to kelvin and celsius both__"
   ]
  },
  {
   "cell_type": "code",
   "execution_count": 9,
   "metadata": {},
   "outputs": [
    {
     "name": "stdout",
     "output_type": "stream",
     "text": [
      "75.00 Fahrenheit is: 23.89 Celsius\n",
      "75.00 Fahrenheit is: 297.04 K\n"
     ]
    }
   ],
   "source": [
    "fahrenheit = 75\n",
    "celsius = (fahrenheit - 32) * 5/9\n",
    "print('%.2f Fahrenheit is: %0.2f Celsius' %(fahrenheit, celsius))\n",
    "\n",
    "\n",
    "\n",
    "Kelvin = (fahrenheit -32)*5/9 + 273.15\n",
    "print('%.2f Fahrenheit is: %0.2f K' %(fahrenheit, Kelvin))"
   ]
  },
  {
   "cell_type": "markdown",
   "metadata": {},
   "source": [
    "__Write a program to demonstrate all the available data type in python. Hint use type() function__"
   ]
  },
  {
   "cell_type": "code",
   "execution_count": 11,
   "metadata": {},
   "outputs": [
    {
     "data": {
      "text/plain": [
       "list"
      ]
     },
     "execution_count": 11,
     "metadata": {},
     "output_type": "execute_result"
    }
   ],
   "source": [
    "str = 'Letsupgade'\n",
    "type(str)\n",
    "\n",
    "int =56\n",
    "type(int)\n",
    "\n",
    "float = 2.5\n",
    "type(float)\n",
    "\n",
    "list =['Python',34,45.6, 3+4j]\n",
    "type(list)"
   ]
  },
  {
   "cell_type": "markdown",
   "metadata": {},
   "source": [
    "__Create a markdown cell in jupyter and list the steps discussed in the session by Dr. Darshan ingle sir to create Github profile and upload Gitubs assignmnet link__"
   ]
  },
  {
   "cell_type": "markdown",
   "metadata": {},
   "source": [
    "1. To create the Github profile using Email ID.\n",
    "2. Create the repositories, using the name LetsUpgrade-AL-ML.\n",
    "3. Folder should be in public.\n",
    "4. Assigmnet should be in proper name like Day3, Day4.\n",
    "5. Copy the gitub link & check the link public in incognito tab\n",
    "6. google to sheet, update the register Email ID, Phone , Select the assignment date, Paste the gitub link.\n",
    "7. Submit the assignment & we will get the confrimation."
   ]
  },
  {
   "cell_type": "code",
   "execution_count": null,
   "metadata": {},
   "outputs": [],
   "source": []
  }
 ],
 "metadata": {
  "kernelspec": {
   "display_name": "Python 3",
   "language": "python",
   "name": "python3"
  },
  "language_info": {
   "codemirror_mode": {
    "name": "ipython",
    "version": 3
   },
   "file_extension": ".py",
   "mimetype": "text/x-python",
   "name": "python",
   "nbconvert_exporter": "python",
   "pygments_lexer": "ipython3",
   "version": "3.6.4"
  }
 },
 "nbformat": 4,
 "nbformat_minor": 2
}
